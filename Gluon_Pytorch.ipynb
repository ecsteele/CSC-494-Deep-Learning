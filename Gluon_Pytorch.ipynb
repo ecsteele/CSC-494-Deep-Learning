{
 "cells": [
  {
   "cell_type": "markdown",
   "metadata": {},
   "source": [
    "# Installation \n",
    "___\n",
    "\n",
    "### Gluon\n",
    "___\n",
    "\n",
    "#### For mac:\n",
    "1. Go to terminal\n",
    "    * Optional: activate a virtual environment\n",
    "2. Run these commands\n",
    "    * pip install gluon\n",
    "    * pip install mxnet\n",
    "\n",
    "#### For windows:\n",
    "1. Go to http://landinghub.visualstudio.com/visual-cpp-build-tools and download and install the C++ compiler.\n",
    "2. Go to conda prompt\n",
    "    * Optional: activate a virtual environment\n",
    "3. Run these commands\n",
    "    * pip install gluon\n",
    "    * pip install mxnet\n",
    "    \n",
    "___\n",
    "\n",
    "### Pytorch\n",
    "___\n",
    "To use pytorch go to http://pytorch.org and follow the instructions based on your machine."
   ]
  },
  {
   "cell_type": "markdown",
   "metadata": {},
   "source": [
    "# Documentation \n",
    "\n",
    "---\n"
   ]
  },
  {
   "cell_type": "code",
   "execution_count": null,
   "metadata": {},
   "outputs": [],
   "source": []
  },
  {
   "cell_type": "markdown",
   "metadata": {},
   "source": [
    "# Ease of Use\n",
    "___\n",
    "\n",
    "## Network\n",
    "\n",
    "___\n",
    "\n",
    "#### Gluon"
   ]
  },
  {
   "cell_type": "code",
   "execution_count": 3,
   "metadata": {},
   "outputs": [],
   "source": [
    "#imports necessary\n",
    "import mxnet as mx\n",
    "from mxnet import gluon, autograd, ndarray\n",
    "import numpy as np\n",
    "import matplotlib.pyplot as plt\n",
    "\n",
    "# Initialize the model\n",
    "net = gluon.nn.Sequential()\n",
    "    \n",
    "# Declare hyperparameters\n",
    "convo1_kernels = 20\n",
    "convo1_kernel_size = (5,5)\n",
    "convo2_kernels = 40\n",
    "convo2_kernel_size = (5,5)\n",
    "pooling = 2\n",
    "\n",
    "hidden1_neurons = 20\n",
    "dropout_rate = 0.3\n",
    "hidden2_neurons = 15\n",
    "\n",
    "# Define our network\n",
    "with net.name_scope():\n",
    "    net.add(gluon.nn.Conv2D(channels=convo1_kernels, kernel_size=convo1_kernel_size, use_bias=True, activation='relu'))\n",
    "    net.add(gluon.nn.MaxPool2D(pool_size=pooling, strides=pooling))\n",
    "    net.add(gluon.nn.BatchNorm())\n",
    "    net.add(gluon.nn.Conv2D(channels=convo2_kernels, kernel_size=convo2_kernel_size, use_bias=True, activation='relu'))\n",
    "    net.add(gluon.nn.MaxPool2D(pool_size=pooling, strides=pooling))\n",
    "    net.add(gluon.nn.Flatten())\n",
    "    net.add(gluon.nn.Dense(hidden1_neurons, activation=\"relu\", use_bias=True))\n",
    "    net.add(gluon.nn.Dropout(dropout_rate))\n",
    "    net.add(gluon.nn.Dense(hidden2_neurons, activation=\"relu\", use_bias=True))\n",
    "    net.add(gluon.nn.Dense(1, activation=\"sigmoid\", use_bias=True)) # Output layer"
   ]
  },
  {
   "cell_type": "markdown",
   "metadata": {},
   "source": [
    "### Pytorch\n",
    "---"
   ]
  },
  {
   "cell_type": "code",
   "execution_count": 4,
   "metadata": {},
   "outputs": [],
   "source": [
    "#imports used\n",
    "import numpy as np\n",
    "import torch\n",
    "import torch.nn as nn\n",
    "import torch.nn.functional as F\n",
    "import torch.optim as optim\n",
    "from torchvision import datasets, transforms\n",
    "from torch.utils.data.dataset import Dataset\n",
    "from torch.autograd import Variable\n",
    "\n",
    "\"\"\"\n",
    "Class that defines the neural network being used. __init__ defines the layers\n",
    "in the neural netwrok, such as dense and convolutional layers. The forward function\n",
    "pushes he input patterns through the network using max pooling for convolution, it\n",
    "defines the activation function for every layer and returns the output of the network\n",
    "as x. The function num_flat_features calculates the size of the flat array for the input\n",
    "of the first dense layer after the last pooling convolutional layer.\n",
    "\"\"\"\n",
    "class Net(nn.Module):\n",
    "    def __init__(self, depth, nk, kernel_size, padding, hidden_neurons, nc):\n",
    "        super(Net, self).__init__()\n",
    "        # out_channels defines the number of kernels\n",
    "        self.conv1 = nn.Conv2d(in_channels=depth, out_channels=nk[0], kernel_size=kernel_size, padding=padding)\n",
    "        self.conv2 = nn.Conv2d(in_channels=nk[0], out_channels=nk[1], kernel_size=kernel_size)\n",
    "        #self.conv2_drop = nn.Dropout2d()\n",
    "        # nc is the image size after convolution and pooling\n",
    "        self.fc1 = nn.Linear(nc * nc * nk[1], hidden_neurons[0])\n",
    "        self.fc2 = nn.Linear(hidden_neurons[0], hidden_neurons[1])\n",
    "        # Single value output\n",
    "        self.fc3 = nn.Linear(hidden_neurons[1], 1)\n",
    "\n",
    "    def forward(self, x, pooling):\n",
    "        # Max pooling over a square window with stride of pool size to avoid overlaps\n",
    "        # Activatin functions are specified in this function even for the convolutional layer\n",
    "        x = F.max_pool2d(F.relu(self.conv1(x)), kernel_size=pooling, stride=pooling)\n",
    "        x = F.max_pool2d(F.relu(self.conv2(x)), kernel_size=pooling, stride=pooling)\n",
    "        #x = F.max_pool2d(F.relu(self.conv2_drop(self.conv2(x))), kernel_size=pooling, stride=pooling)\n",
    "        x = x.view(-1, self.num_flat_features(x))\n",
    "        x = F.relu(self.fc1(x))\n",
    "        x = F.relu(self.fc2(x))\n",
    "        x = F.sigmoid(self.fc3(x))\n",
    "        return x\n",
    "\n",
    "    def num_flat_features(self, x):\n",
    "        size = x.size()[1:]  # All dimensions except the batch dimension\n",
    "        num_features = 1\n",
    "        for s in size:\n",
    "            num_features *= s\n",
    "        return num_features"
   ]
  },
  {
   "cell_type": "markdown",
   "metadata": {},
   "source": []
  }
 ],
 "metadata": {
  "kernelspec": {
   "display_name": "Python 3",
   "language": "python",
   "name": "python3"
  },
  "language_info": {
   "codemirror_mode": {
    "name": "ipython",
    "version": 3
   },
   "file_extension": ".py",
   "mimetype": "text/x-python",
   "name": "python",
   "nbconvert_exporter": "python",
   "pygments_lexer": "ipython3",
   "version": "3.6.5"
  }
 },
 "nbformat": 4,
 "nbformat_minor": 2
}
