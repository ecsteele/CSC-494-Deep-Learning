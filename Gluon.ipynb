{
 "cells": [
  {
   "cell_type": "markdown",
   "metadata": {},
   "source": [
    "# Gluon\n",
    "___\n",
    "#### For mac:\n",
    "1. Go to terminal\n",
    "    * Optional: activate a virtual environment\n",
    "2. Run these commands\n",
    "    * pip install gluon\n",
    "    * pip install mxnet\n",
    "\n",
    "#### For windows:\n",
    "1. Go to http://landinghub.visualstudio.com/visual-cpp-build-tools and download and install the C++ compiler.\n",
    "2. Go to conda prompt\n",
    "    * Optional: activate a virtual environment\n",
    "3. Run these commands\n",
    "    * pip install gluon\n",
    "    * pip install mxnet"
   ]
  },
  {
   "cell_type": "markdown",
   "metadata": {},
   "source": [
    "### Network\n",
    "___ "
   ]
  },
  {
   "cell_type": "code",
   "execution_count": 3,
   "metadata": {},
   "outputs": [],
   "source": [
    "#imports necessary\n",
    "import mxnet as mx\n",
    "from mxnet import gluon, autograd, ndarray\n",
    "import numpy as np\n",
    "import matplotlib.pyplot as plt\n",
    "\n",
    "# Initialize the model\n",
    "net = gluon.nn.Sequential()\n",
    "    \n",
    "ps = 2\n",
    "nf = 10\n",
    "k = 5\n",
    "nh = 20\n",
    "\n",
    "# Define the model architecture\n",
    "with net.name_scope():\n",
    "    net.add(gluon.nn.Conv2D(channels=20, kernel_size=(5,5), use_bias=True, activation='relu'))\n",
    "    net.add(gluon.nn.MaxPool2D(pool_size=ps, strides=ps))\n",
    "    net.add(gluon.nn.BatchNorm())\n",
    "    net.add(gluon.nn.Conv2D(channels=40, kernel_size=(5,5), use_bias=True, activation='relu'))\n",
    "    net.add(gluon.nn.MaxPool2D(pool_size=ps, strides=ps))\n",
    "    net.add(gluon.nn.Flatten())\n",
    "    net.add(gluon.nn.Dense(20, activation=\"relu\", use_bias=True))\n",
    "    net.add(gluon.nn.Dropout(0.3))\n",
    "    net.add(gluon.nn.Dense(15, activation=\"relu\", use_bias=True))\n",
    "    net.add(gluon.nn.Dense(1, activation=\"sigmoid\", use_bias=True)) # Output layer"
   ]
  },
  {
   "cell_type": "code",
   "execution_count": null,
   "metadata": {},
   "outputs": [],
   "source": []
  }
 ],
 "metadata": {
  "kernelspec": {
   "display_name": "Python 3",
   "language": "python",
   "name": "python3"
  },
  "language_info": {
   "codemirror_mode": {
    "name": "ipython",
    "version": 3
   },
   "file_extension": ".py",
   "mimetype": "text/x-python",
   "name": "python",
   "nbconvert_exporter": "python",
   "pygments_lexer": "ipython3",
   "version": "3.6.5"
  }
 },
 "nbformat": 4,
 "nbformat_minor": 2
}
